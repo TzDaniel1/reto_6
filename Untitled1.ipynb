{
  "nbformat": 4,
  "nbformat_minor": 0,
  "metadata": {
    "colab": {
      "provenance": [],
      "authorship_tag": "ABX9TyPp/Qn3aYs8ywxK1yI324pl",
      "include_colab_link": true
    },
    "kernelspec": {
      "name": "python3",
      "display_name": "Python 3"
    },
    "language_info": {
      "name": "python"
    }
  },
  "cells": [
    {
      "cell_type": "markdown",
      "metadata": {
        "id": "view-in-github",
        "colab_type": "text"
      },
      "source": [
        "<a href=\"https://colab.research.google.com/github/TzDaniel1/reto_6/blob/main/Untitled1.ipynb\" target=\"_parent\"><img src=\"https://colab.research.google.com/assets/colab-badge.svg\" alt=\"Open In Colab\"/></a>"
      ]
    },
    {
      "cell_type": "markdown",
      "source": [
        "# Reto 7"
      ],
      "metadata": {
        "id": "lUrZEle3axDq"
      }
    },
    {
      "cell_type": "markdown",
      "source": [
        "### 1. Imprimir un listado con los números del 1 al 100 cada uno con su respectivo cuadrado."
      ],
      "metadata": {
        "id": "LK397h8Na_MH"
      }
    },
    {
      "cell_type": "code",
      "execution_count": null,
      "metadata": {
        "id": "6duaX3ABawYb"
      },
      "outputs": [],
      "source": [
        "i = 1\n",
        "while i <= 100:\n",
        "    print(f\"Número: {i}, Cuadrado: {i**2}\")\n",
        "    i += 1\n"
      ]
    },
    {
      "cell_type": "markdown",
      "source": [
        "### 2. Imprimir un listado con los números impares desde 1 hasta 999 y seguidamente otro listado con los números pares desde 2 hasta 1000."
      ],
      "metadata": {
        "id": "-RZvc1xEf8cZ"
      }
    },
    {
      "cell_type": "code",
      "source": [
        "print(\"Números impares:\")\n",
        "i = 1\n",
        "while i <= 999:\n",
        "    print(i)\n",
        "    i += 2\n",
        "\n",
        "\n",
        "print(\"\\nNúmeros pares:\")\n",
        "i = 2\n",
        "while i <= 1000:\n",
        "    print(i)\n",
        "    i += 2"
      ],
      "metadata": {
        "id": "fPVcvDrygDX4"
      },
      "execution_count": null,
      "outputs": []
    },
    {
      "cell_type": "markdown",
      "source": [
        "### 3. Imprimir los números pares en forma descendente hasta 2 que son menores o iguales a un número natural n ≥ 2 dado"
      ],
      "metadata": {
        "id": "Rh280akJnzHZ"
      }
    },
    {
      "cell_type": "code",
      "source": [
        "n = int(input(\"Ingrese un número natural mayor o igual a 2: \"))\n",
        "\n",
        "if n >= 2:\n",
        "    print(\"\\nNúmeros pares descendentes hasta 2:\")\n",
        "    i = n if n % 2 == 0 else n - 1\n",
        "    while i >= 2:\n",
        "        print(i)\n",
        "        i -= 2\n",
        "else:\n",
        "    print(\"El número ingresado no es válido.\")"
      ],
      "metadata": {
        "colab": {
          "base_uri": "https://localhost:8080/"
        },
        "id": "gXhiUqt7n0Fm",
        "outputId": "5e179b61-163d-4de5-fa53-440520323d6c"
      },
      "execution_count": null,
      "outputs": [
        {
          "output_type": "stream",
          "name": "stdout",
          "text": [
            "Ingrese un número natural mayor o igual a 2: -89\n",
            "El número ingresado no es válido.\n"
          ]
        }
      ]
    },
    {
      "cell_type": "markdown",
      "source": [
        "### 4. En 2022 el país A tendrá una población de 25 millones de habitantes y el país B de 18.9 millones. Las tasas de crecimiento anual de la población serán de 2% y 3% respectivamente. Desarrollar un algoritmo para informar en que año la población del país B superará a la de A."
      ],
      "metadata": {
        "id": "vXY-Ws0eoFp-"
      }
    },
    {
      "cell_type": "code",
      "source": [
        "poblacion_a = 25\n",
        "poblacion_b = 18.9\n",
        "tasa_crecimiento_a = 0.02\n",
        "tasa_crecimiento_b = 0.03\n",
        "anio = 0\n",
        "\n",
        "while poblacion_b <= poblacion_a:\n",
        "    poblacion_a *= (1 + tasa_crecimiento_a)\n",
        "    poblacion_b *= (1 + tasa_crecimiento_b)\n",
        "    anio += 1\n",
        "\n",
        "print(f\"En el año {2022 + anio} la población del país B ({poblacion_b:.2f} millones) superará a la del país A ({poblacion_a:.2f} millones).\")"
      ],
      "metadata": {
        "colab": {
          "base_uri": "https://localhost:8080/"
        },
        "id": "5pREg_fboJh6",
        "outputId": "33ca98ad-5a50-43e4-d20b-a8c5bd03d1b2"
      },
      "execution_count": null,
      "outputs": [
        {
          "output_type": "stream",
          "name": "stdout",
          "text": [
            "En el año 2051 la población del país B (44.54 millones) superará a la del país A (44.40 millones).\n"
          ]
        }
      ]
    },
    {
      "cell_type": "markdown",
      "source": [
        "### 5. Imprimir el factorial de un número natural n dado."
      ],
      "metadata": {
        "id": "oHVHyg43tBSA"
      }
    },
    {
      "cell_type": "code",
      "source": [
        "n = int(input(\"Ingrese un número natural para calcular su factorial: \"))\n",
        "factorial = 1\n",
        "\n",
        "if n >= 0:\n",
        "    i = 1\n",
        "    while i <= n:\n",
        "        factorial *= i\n",
        "        i += 1\n",
        "\n",
        "    print(f\"El factorial de {n} es {factorial}\")\n",
        "else:\n",
        "    print(\"El número ingresado no es válido.\")"
      ],
      "metadata": {
        "id": "eQ6oxdMhtBjW"
      },
      "execution_count": null,
      "outputs": []
    },
    {
      "cell_type": "markdown",
      "source": [
        "### 6. Implementar un algoritmo que permita adivinar un número dado de 1 a 100, preguntando en cada caso si el número es mayor, menor o igual."
      ],
      "metadata": {
        "id": "9NGUkEnttBv_"
      }
    },
    {
      "cell_type": "code",
      "source": [
        "print(\"Piensa en un número del 1 al 100 y yo trataré de adivinarlo.\")\n",
        "inferior = 1\n",
        "superior = 100\n",
        "respuesta = \"\"\n",
        "\n",
        "while respuesta != \"igual\":\n",
        "    intento = (inferior + superior) // 2\n",
        "    respuesta = input(f\"¿Es {intento} mayor, menor o igual al número que pensaste? \").lower()\n",
        "\n",
        "    if respuesta == \"mayor\":\n",
        "        inferior = intento + 1\n",
        "    elif respuesta == \"menor\":\n",
        "        superior = intento - 1\n",
        "    elif respuesta != \"igual\":\n",
        "        print(\"Por favor, ingresa 'mayor', 'menor' o 'igual'.\")"
      ],
      "metadata": {
        "id": "zkrdvL8JtB7a"
      },
      "execution_count": null,
      "outputs": []
    },
    {
      "cell_type": "markdown",
      "source": [
        "### 7. Implementar un programa que ingrese un número de 2 a 50 y muestre sus divisores."
      ],
      "metadata": {
        "id": "KcCPJ7TrtCIe"
      }
    },
    {
      "cell_type": "code",
      "source": [
        "numero = int(input(\"Ingrese un número entre 2 y 50: \"))\n",
        "\n",
        "if 2 <= numero <= 50:\n",
        "    print(f\"Los divisores de {numero} son:\")\n",
        "    divisor = 1\n",
        "    while divisor <= numero:\n",
        "        if numero % divisor == 0:\n",
        "            print(divisor)\n",
        "        divisor += 1"
      ],
      "metadata": {
        "id": "BQZs4DD_tCUm"
      },
      "execution_count": null,
      "outputs": []
    },
    {
      "cell_type": "markdown",
      "source": [
        "### 8. Implementar el algoritmo que muestre los números primos del 1 al 100. Nota: use funciones"
      ],
      "metadata": {
        "id": "86oq_VGhtDy-"
      }
    },
    {
      "cell_type": "code",
      "source": [
        "print(\"Números primos del 1 al 100:\")\n",
        "num = 2\n",
        "\n",
        "while num <= 100:\n",
        "    divisor = 2\n",
        "    primo = True\n",
        "\n",
        "    while divisor < num:\n",
        "        if num % divisor == 0:\n",
        "            primo = False\n",
        "            break\n",
        "        divisor += 1\n",
        "\n",
        "    if primo:\n",
        "        print(num)\n",
        "\n",
        "    num += 1"
      ],
      "metadata": {
        "id": "1wZKL7X6tD9_"
      },
      "execution_count": null,
      "outputs": []
    }
  ]
}